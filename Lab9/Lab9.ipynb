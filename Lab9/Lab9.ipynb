{
  "nbformat": 4,
  "nbformat_minor": 0,
  "metadata": {
    "colab": {
      "name": "Lab9.ipynb",
      "provenance": [],
      "authorship_tag": "ABX9TyOF1FCYrvvGc5i8Ronipqd0",
      "include_colab_link": true
    },
    "kernelspec": {
      "name": "python3",
      "display_name": "Python 3"
    }
  },
  "cells": [
    {
      "cell_type": "markdown",
      "metadata": {
        "id": "view-in-github",
        "colab_type": "text"
      },
      "source": [
        "<a href=\"https://colab.research.google.com/github/maciejlehmann/amw-wdum/blob/main/Lab9/Lab9.ipynb\" target=\"_parent\"><img src=\"https://colab.research.google.com/assets/colab-badge.svg\" alt=\"Open In Colab\"/></a>"
      ]
    },
    {
      "cell_type": "code",
      "metadata": {
        "id": "bozExQv0k328"
      },
      "source": [
        "import imutils\n",
        "from google.colab.patches import cv2_imshow\n",
        "\n",
        "# Wczytanie i wyświetlenie obrazu\n",
        "\n",
        "image = cv2.imread(\"av.jpg\")\n",
        "(h, w, d) = image.shape\n",
        "print(\"width={}, height={}, depth={}\".format(w, h, d))\n",
        "\n",
        "cv2_imshow(image)\n",
        "cv2.waitKey(0)"
      ],
      "execution_count": null,
      "outputs": []
    },
    {
      "cell_type": "code",
      "metadata": {
        "id": "BGqqhxmvrvqm"
      },
      "source": [
        "# Uzyskanie wartości RGB wskazanego piksela\n",
        "\n",
        "image = cv2.imread(\"av.jpg\")\n",
        "(B, G, R) = image[120, 70]\n",
        "print(\"R={}, G={}, B={}\".format(R, G, B))"
      ],
      "execution_count": null,
      "outputs": []
    },
    {
      "cell_type": "code",
      "metadata": {
        "id": "DCFBGb3rswLc"
      },
      "source": [
        "# Wybranie obszaru zainteresowania o wielkości 200x200 pikseli\n",
        "\n",
        "roi = image[380:580, 170:370]\n",
        "cv2_imshow(roi)\n",
        "cv2.waitKey(0)"
      ],
      "execution_count": null,
      "outputs": []
    },
    {
      "cell_type": "code",
      "metadata": {
        "id": "ah1PqU4Bua5a"
      },
      "source": [
        "# Skalowanie obrazu bez zachowania proporcji\n",
        "\n",
        "resized = cv2.resize(image, (300, 300))\n",
        "cv2_imshow(resized)\n",
        "cv2.waitKey(0)"
      ],
      "execution_count": null,
      "outputs": []
    },
    {
      "cell_type": "code",
      "metadata": {
        "id": "HMXD8XeYvBNr"
      },
      "source": [
        "# Skalowanie obrazka z zachowaniem proporcji\n",
        "\n",
        "r = 300.0 / w\n",
        "dim = (300, int(h * r))\n",
        "resized = cv2.resize(image, dim)\n",
        "cv2_imshow(resized)\n",
        "cv2.waitKey(0)"
      ],
      "execution_count": null,
      "outputs": []
    },
    {
      "cell_type": "code",
      "metadata": {
        "id": "J6uBVs7ZvaIm"
      },
      "source": [
        "# Skalowanie orazka z zachowaniem proporcji, które są wyliczane automatycznie\n",
        "\n",
        "resized = imutils.resize(image, width=400)\n",
        "cv2_imshow(resized)\n",
        "cv2.waitKey(0)"
      ],
      "execution_count": null,
      "outputs": []
    },
    {
      "cell_type": "code",
      "metadata": {
        "id": "dOuZKaQ_wQU9"
      },
      "source": [
        "# Obrazanie obrazka o 45 stopni zgodnie z ruchem wskazówek zegara\n",
        "\n",
        "center = (w // 2, h // 2)\n",
        "M = cv2.getRotationMatrix2D(center, -45, 1.0)\n",
        "rotated = cv2.warpAffine(image, M, (w, h))\n",
        "cv2_imshow(rotated)\n",
        "cv2.waitKey(0)"
      ],
      "execution_count": null,
      "outputs": []
    },
    {
      "cell_type": "code",
      "metadata": {
        "id": "jDDw256mzhJ9"
      },
      "source": [
        "# Obracanie obrazka o 45 stopni bez ucinania wystających krawędzi\n",
        "\n",
        "rotated = imutils.rotate_bound(image, 45)\n",
        "cv2_imshow(rotated)\n",
        "cv2.waitKey(0)"
      ],
      "execution_count": null,
      "outputs": []
    },
    {
      "cell_type": "code",
      "metadata": {
        "id": "pYA0F5Jez7Ej"
      },
      "source": [
        "# Rozmycie obrazka rozmyciem Gaussa\n",
        "\n",
        "blurred = cv2.GaussianBlur(image, (11, 11), 0)\n",
        "cv2_imshow(blurred)\n",
        "cv2.waitKey(0)"
      ],
      "execution_count": null,
      "outputs": []
    },
    {
      "cell_type": "code",
      "metadata": {
        "id": "HofFzzF30QGY"
      },
      "source": [
        "# Rysowanie prostokątu we wskazanym miejscu\n",
        "\n",
        "output = image.copy()\n",
        "cv2.rectangle(output, (160, 120), (290, 280), (0, 255, 0), 2)\n",
        "cv2_imshow(output)\n",
        "cv2.waitKey(0)"
      ],
      "execution_count": null,
      "outputs": []
    },
    {
      "cell_type": "code",
      "metadata": {
        "id": "YG0PRZn21qXz"
      },
      "source": [
        "# Rysowanie zamalowanego koła we wskazanym miejscu\n",
        "\n",
        "output = image.copy()\n",
        "cv2.circle(output, (380, 380), 20, (0, 255, 255), -1)\n",
        "cv2_imshow(output)\n",
        "cv2.waitKey(0)"
      ],
      "execution_count": null,
      "outputs": []
    },
    {
      "cell_type": "code",
      "metadata": {
        "id": "cIKN06eP2reH"
      },
      "source": [
        "# Rysowanie linii w wybranych miejscach\n",
        "\n",
        "output = image.copy()\n",
        "cv2.line(output, (60, 600), (400, 200), (255, 0, 255), 5)\n",
        "cv2.line(output, (60, 200), (200, 600), (255, 255, 0), 5)\n",
        "cv2_imshow(output)\n",
        "cv2.waitKey(0)"
      ],
      "execution_count": null,
      "outputs": []
    },
    {
      "cell_type": "code",
      "metadata": {
        "id": "JAMq84uo3OCu"
      },
      "source": [
        "# Dodawanie napisu na obrazku\n",
        "\n",
        "output = image.copy()\n",
        "cv2.putText(output, \"Avengers: Endgame!\", (100, 525), \n",
        "\tcv2.FONT_HERSHEY_SIMPLEX, 0.7, (0, 255, 0), 2)\n",
        "cv2_imshow(output)\n",
        "cv2.waitKey(0)"
      ],
      "execution_count": null,
      "outputs": []
    }
  ]
}