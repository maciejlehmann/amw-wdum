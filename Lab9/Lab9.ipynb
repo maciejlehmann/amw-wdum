{
  "nbformat": 4,
  "nbformat_minor": 0,
  "metadata": {
    "colab": {
      "name": "Lab9.ipynb",
      "provenance": [],
      "authorship_tag": "ABX9TyPnyUhtD5Z+dsit3Nora7XK",
      "include_colab_link": true
    },
    "kernelspec": {
      "name": "python3",
      "display_name": "Python 3"
    }
  },
  "cells": [
    {
      "cell_type": "markdown",
      "metadata": {
        "id": "view-in-github",
        "colab_type": "text"
      },
      "source": [
        "<a href=\"https://colab.research.google.com/github/maciejlehmann/amw-wdum/blob/main/Lab9/Lab9.ipynb\" target=\"_parent\"><img src=\"https://colab.research.google.com/assets/colab-badge.svg\" alt=\"Open In Colab\"/></a>"
      ]
    },
    {
      "cell_type": "code",
      "metadata": {
        "id": "bozExQv0k328"
      },
      "source": [
        "import imutils\n",
        "from google.colab.patches import cv2_imshow\n",
        "\n",
        "\n",
        "\n",
        "image = cv2.imread(\"av.jpg\")\n",
        "(h, w, d) = image.shape\n",
        "print(\"width={}, height={}, depth={}\".format(w, h, d))\n",
        "\n",
        "cv2_imshow(image)\n",
        "cv2.waitKey(0)"
      ],
      "execution_count": null,
      "outputs": []
    },
    {
      "cell_type": "code",
      "metadata": {
        "colab": {
          "base_uri": "https://localhost:8080/"
        },
        "id": "BGqqhxmvrvqm",
        "outputId": "68f05727-4b42-45af-f74f-7dc33b9140fd"
      },
      "source": [
        "import imutils\n",
        "from google.colab.patches import cv2_imshow\n",
        "\n",
        "\n",
        "\n",
        "image = cv2.imread(\"av.jpg\")\n",
        "(B, G, R) = image[100, 50]\n",
        "print(\"R={}, G={}, B={}\".format(R, G, B))"
      ],
      "execution_count": 9,
      "outputs": [
        {
          "output_type": "stream",
          "text": [
            "R=34, G=26, B=77\n"
          ],
          "name": "stdout"
        }
      ]
    }
  ]
}