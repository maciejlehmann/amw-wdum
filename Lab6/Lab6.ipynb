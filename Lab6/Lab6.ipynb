{
  "nbformat": 4,
  "nbformat_minor": 0,
  "metadata": {
    "colab": {
      "name": "Lab6.ipynb",
      "provenance": [],
      "authorship_tag": "ABX9TyMBr6RAdU0VvU21NycZXtBr",
      "include_colab_link": true
    },
    "kernelspec": {
      "name": "python3",
      "display_name": "Python 3"
    }
  },
  "cells": [
    {
      "cell_type": "markdown",
      "metadata": {
        "id": "view-in-github",
        "colab_type": "text"
      },
      "source": [
        "<a href=\"https://colab.research.google.com/github/maciejlehmann/amw-wdum/blob/main/Lab6/Lab6.ipynb\" target=\"_parent\"><img src=\"https://colab.research.google.com/assets/colab-badge.svg\" alt=\"Open In Colab\"/></a>"
      ]
    },
    {
      "cell_type": "code",
      "metadata": {
        "id": "Z-St8a9Yd-hf"
      },
      "source": [
        "# Otwieranie pliku\r\n",
        "\r\n",
        "file = open('mcu.txt')"
      ],
      "execution_count": 1,
      "outputs": []
    },
    {
      "cell_type": "code",
      "metadata": {
        "id": "MXlKgL6khNy6"
      },
      "source": [
        "# Otwieranie i zamykanie pliku za pomocą\r\n",
        "\r\n",
        "reader = open('mcu.txt')\r\n",
        "try:\r\n",
        "    # Operacje związane z plikiem\r\n",
        "finally:\r\n",
        "    reader.close()"
      ],
      "execution_count": null,
      "outputs": []
    },
    {
      "cell_type": "code",
      "metadata": {
        "id": "1fHIYZpGho8x"
      },
      "source": [
        "# Otwieranie i zamykanie pliku za pomocą \"with\"\r\n",
        "\r\n",
        "with open('mcu.txt') as reader:\r\n",
        "    # Operacje związane z plikiem"
      ],
      "execution_count": null,
      "outputs": []
    },
    {
      "cell_type": "code",
      "metadata": {
        "id": "4cSdJ0pNh3XM"
      },
      "source": [
        "# Otwieranie i zamykanie pliku za pomocą \"with\" ze wskazaniem trybu - tutaj r, czyli read only\r\n",
        "\r\n",
        "with open('mcu.txt', 'r') as reader:\r\n",
        "    # Operacje związane z plikiem"
      ],
      "execution_count": null,
      "outputs": []
    },
    {
      "cell_type": "code",
      "metadata": {
        "colab": {
          "base_uri": "https://localhost:8080/"
        },
        "id": "KaHgY9MGiOD_",
        "outputId": "ca3c0963-669a-4e98-b525-1587f161d420"
      },
      "source": [
        "# Pliki tekstowe\r\n",
        "# Funkcja open zwraca obkiet typu TextIOWrapper\r\n",
        "\r\n",
        "file = open('mcu.txt')\r\n",
        "print(file)"
      ],
      "execution_count": 13,
      "outputs": [
        {
          "output_type": "stream",
          "text": [
            "<_io.TextIOWrapper name='mcu.txt' mode='r' encoding='UTF-8'>\n"
          ],
          "name": "stdout"
        }
      ]
    },
    {
      "cell_type": "code",
      "metadata": {
        "colab": {
          "base_uri": "https://localhost:8080/"
        },
        "id": "Al6leDuRjPsG",
        "outputId": "aeb52c6f-9d7f-47fe-dbb8-fb4c2c70fe11"
      },
      "source": [
        "# Typy buforowane plików binarnych\r\n",
        "# Funkcja open zwraca obiekt BufferedReader dla rb i BufferedWriter dla wb\r\n",
        "\r\n",
        "file = open('mcu.txt', 'rb')\r\n",
        "print(file)\r\n",
        "file = open('mcu.txt', 'wb')\r\n",
        "print(file)"
      ],
      "execution_count": 29,
      "outputs": [
        {
          "output_type": "stream",
          "text": [
            "<_io.BufferedReader name='mcu.txt'>\n",
            "<_io.BufferedWriter name='mcu.txt'>\n"
          ],
          "name": "stdout"
        }
      ]
    },
    {
      "cell_type": "code",
      "metadata": {
        "colab": {
          "base_uri": "https://localhost:8080/"
        },
        "id": "IdSIgNGrklVV",
        "outputId": "11a524d8-1b6f-48b5-c718-44c61b70b9d2"
      },
      "source": [
        "# Surowe typy plików\r\n",
        "# Funkcja open zwraca obiekt FileIO\r\n",
        "\r\n",
        "file = open('mcu.txt', 'rb', buffering=0)\r\n",
        "print(file)"
      ],
      "execution_count": 23,
      "outputs": [
        {
          "output_type": "stream",
          "text": [
            "<_io.FileIO name='mcu.txt' mode='rb' closefd=True>\n"
          ],
          "name": "stdout"
        }
      ]
    },
    {
      "cell_type": "code",
      "metadata": {
        "colab": {
          "base_uri": "https://localhost:8080/"
        },
        "id": "igjLlVuuk7dZ",
        "outputId": "fd20a1cc-d796-433a-b3d7-c2acd44cec9e"
      },
      "source": [
        "# Wczytanie całej zawartości pliku\r\n",
        "\r\n",
        "with open(\"/content/mcu.txt\", \"r\") as reader:\r\n",
        "    FileContent = reader.read()\r\n",
        "    print(FileContent)"
      ],
      "execution_count": 36,
      "outputs": [
        {
          "output_type": "stream",
          "text": [
            "Iron Man\n",
            "The Incredible Hulk\n",
            "Iron Man 2\n",
            "Thor\n",
            "Captain America: The First Avenger\n",
            "Marvel's The Avengers\n",
            "Iron Man 3\n",
            "Thor: The Dark World\n",
            "Captain America: The Winter Soldier\n",
            "Guardians of the Galaxy\n",
            "Avengers: Age of Ultron\n",
            "Ant-Man\n",
            "Captain America: Civil War\n",
            "Doctor Strange\n",
            "Guardians of the Galaxy Vol. 2\n",
            "Spider-Man: Homecoming\n",
            "Thor: Ragnarok\n",
            "Black Panther\n",
            "Avengers: Infinity War\n",
            "Ant-Man and the Wasp\n",
            "Captain Marvel\n",
            "Avengers: Endgame\n",
            "Spider-Man: Far From Home\n",
            "Black Widow\n",
            "Shang-Chi and the Legend of the Ten Rings\n",
            "Eternals\n",
            "Spider-Man 3\n",
            "Doctor Strange in the Multiverse of Madness\n",
            "Thor: Love and Thunder\n",
            "Black Panther II\n",
            "Captain Marvel 2\n",
            "Ant-Man and the Wasp: Quantumania\n",
            "Guardians of the Galaxy Vol. 3\n",
            "Blade\n",
            "Fantastic Four\n"
          ],
          "name": "stdout"
        }
      ]
    },
    {
      "cell_type": "code",
      "metadata": {
        "colab": {
          "base_uri": "https://localhost:8080/"
        },
        "id": "njYFFzuFlT5q",
        "outputId": "4c80a25b-1c21-46aa-abc4-c9454bc37339"
      },
      "source": [
        "# Wczytanie pięciu pierwszych znaków linii pięc razy\r\n",
        "# W przypadku gdy linia jest większa od 5 znaków, najpierw jest ona wczytywana do końca, a dopiero potem kolejna\r\n",
        "\r\n",
        "with open('/content/mcu.txt', 'r') as reader:\r\n",
        "\r\n",
        "  print(reader.readline(5))\r\n",
        "  print(reader.readline(5))\r\n",
        "  print(reader.readline(5))\r\n",
        "  print(reader.readline(5))\r\n",
        "  print(reader.readline(5))"
      ],
      "execution_count": 35,
      "outputs": [
        {
          "output_type": "stream",
          "text": [
            "Iron \n",
            "Man\n",
            "\n",
            "The I\n",
            "ncred\n",
            "ible \n"
          ],
          "name": "stdout"
        }
      ]
    },
    {
      "cell_type": "code",
      "metadata": {
        "colab": {
          "base_uri": "https://localhost:8080/"
        },
        "id": "dgRcsuTFq93n",
        "outputId": "6e1e47fb-832f-42b8-e7fa-10acb52eb832"
      },
      "source": [
        "# Wczytanie każdej linii pliku jako element listy\r\n",
        "\r\n",
        "f = open('/content/mcu.txt')\r\n",
        "f.readlines()\r\n",
        "# list(f)"
      ],
      "execution_count": 37,
      "outputs": [
        {
          "output_type": "execute_result",
          "data": {
            "text/plain": [
              "['Iron Man\\n',\n",
              " 'The Incredible Hulk\\n',\n",
              " 'Iron Man 2\\n',\n",
              " 'Thor\\n',\n",
              " 'Captain America: The First Avenger\\n',\n",
              " \"Marvel's The Avengers\\n\",\n",
              " 'Iron Man 3\\n',\n",
              " 'Thor: The Dark World\\n',\n",
              " 'Captain America: The Winter Soldier\\n',\n",
              " 'Guardians of the Galaxy\\n',\n",
              " 'Avengers: Age of Ultron\\n',\n",
              " 'Ant-Man\\n',\n",
              " 'Captain America: Civil War\\n',\n",
              " 'Doctor Strange\\n',\n",
              " 'Guardians of the Galaxy Vol. 2\\n',\n",
              " 'Spider-Man: Homecoming\\n',\n",
              " 'Thor: Ragnarok\\n',\n",
              " 'Black Panther\\n',\n",
              " 'Avengers: Infinity War\\n',\n",
              " 'Ant-Man and the Wasp\\n',\n",
              " 'Captain Marvel\\n',\n",
              " 'Avengers: Endgame\\n',\n",
              " 'Spider-Man: Far From Home\\n',\n",
              " 'Black Widow\\n',\n",
              " 'Shang-Chi and the Legend of the Ten Rings\\n',\n",
              " 'Eternals\\n',\n",
              " 'Spider-Man 3\\n',\n",
              " 'Doctor Strange in the Multiverse of Madness\\n',\n",
              " 'Thor: Love and Thunder\\n',\n",
              " 'Black Panther II\\n',\n",
              " 'Captain Marvel 2\\n',\n",
              " 'Ant-Man and the Wasp: Quantumania\\n',\n",
              " 'Guardians of the Galaxy Vol. 3\\n',\n",
              " 'Blade\\n',\n",
              " 'Fantastic Four']"
            ]
          },
          "metadata": {
            "tags": []
          },
          "execution_count": 37
        }
      ]
    },
    {
      "cell_type": "code",
      "metadata": {
        "colab": {
          "base_uri": "https://localhost:8080/"
        },
        "id": "HUgQ3lFOsGSg",
        "outputId": "b7c1fce4-5703-4405-f581-eb4054cbd819"
      },
      "source": [
        "# Wczytanie każdej linii z pliku linia po linii\r\n",
        "\r\n",
        "# Iteracja linia po linii za pomocą readline()\r\n",
        "with open('/content/mcu.txt', 'r') as reader:\r\n",
        "  line = reader.readline()\r\n",
        "  while line != '':\r\n",
        "    print(line, end='')\r\n",
        "    line = reader.readline()\r\n",
        "\r\n",
        "# Iteracja linia po linii za pomocą realine() użytego na obiekcie pliku\r\n",
        "# with open('/content/mcu.txt', 'r') as reader:\r\n",
        "#   for line in reader.readlines():\r\n",
        "#     print(line, end='')\r\n",
        "\r\n",
        "# Iteracja linia po linii w obiekcie pliku\r\n",
        "# with open('/content/mcu.txt', 'r') as reader:\r\n",
        "#   for line in reader:\r\n",
        "#     print(line, end='')"
      ],
      "execution_count": 45,
      "outputs": [
        {
          "output_type": "stream",
          "text": [
            "Iron Man\n",
            "The Incredible Hulk\n",
            "Iron Man 2\n",
            "Thor\n",
            "Captain America: The First Avenger\n",
            "Marvel's The Avengers\n",
            "Iron Man 3\n",
            "Thor: The Dark World\n",
            "Captain America: The Winter Soldier\n",
            "Guardians of the Galaxy\n",
            "Avengers: Age of Ultron\n",
            "Ant-Man\n",
            "Captain America: Civil War\n",
            "Doctor Strange\n",
            "Guardians of the Galaxy Vol. 2\n",
            "Spider-Man: Homecoming\n",
            "Thor: Ragnarok\n",
            "Black Panther\n",
            "Avengers: Infinity War\n",
            "Ant-Man and the Wasp\n",
            "Captain Marvel\n",
            "Avengers: Endgame\n",
            "Spider-Man: Far From Home\n",
            "Black Widow\n",
            "Shang-Chi and the Legend of the Ten Rings\n",
            "Eternals\n",
            "Spider-Man 3\n",
            "Doctor Strange in the Multiverse of Madness\n",
            "Thor: Love and Thunder\n",
            "Black Panther II\n",
            "Captain Marvel 2\n",
            "Ant-Man and the Wasp: Quantumania\n",
            "Guardians of the Galaxy Vol. 3\n",
            "Blade\n",
            "Fantastic Four"
          ],
          "name": "stdout"
        }
      ]
    },
    {
      "cell_type": "code",
      "metadata": {
        "colab": {
          "base_uri": "https://localhost:8080/"
        },
        "id": "dDYMw4rus1S6",
        "outputId": "e99fef05-9559-4bcc-d73b-55d3f7ec2783"
      },
      "source": [
        "# Wczytanie zawartości pliku i zapisanie jej w drugim pliku w odwrotnej kolejności\r\n",
        "\r\n",
        "with open('/content/mcu.txt', 'r') as reader:\r\n",
        "  mcu = reader.readlines()\r\n",
        "\r\n",
        "with open('mcu_reversed.txt', 'w') as writer:\r\n",
        "  for movie in reversed(mcu):\r\n",
        "    writer.write(movie)\r\n",
        "\r\n",
        "with open(\"/content/mcu_reversed.txt\", \"r\") as reader:\r\n",
        "    FileContent = reader.read()\r\n",
        "    print(FileContent)"
      ],
      "execution_count": 49,
      "outputs": [
        {
          "output_type": "stream",
          "text": [
            "Fantastic FourBlade\n",
            "Guardians of the Galaxy Vol. 3\n",
            "Ant-Man and the Wasp: Quantumania\n",
            "Captain Marvel 2\n",
            "Black Panther II\n",
            "Thor: Love and Thunder\n",
            "Doctor Strange in the Multiverse of Madness\n",
            "Spider-Man 3\n",
            "Eternals\n",
            "Shang-Chi and the Legend of the Ten Rings\n",
            "Black Widow\n",
            "Spider-Man: Far From Home\n",
            "Avengers: Endgame\n",
            "Captain Marvel\n",
            "Ant-Man and the Wasp\n",
            "Avengers: Infinity War\n",
            "Black Panther\n",
            "Thor: Ragnarok\n",
            "Spider-Man: Homecoming\n",
            "Guardians of the Galaxy Vol. 2\n",
            "Doctor Strange\n",
            "Captain America: Civil War\n",
            "Ant-Man\n",
            "Avengers: Age of Ultron\n",
            "Guardians of the Galaxy\n",
            "Captain America: The Winter Soldier\n",
            "Thor: The Dark World\n",
            "Iron Man 3\n",
            "Marvel's The Avengers\n",
            "Captain America: The First Avenger\n",
            "Thor\n",
            "Iron Man 2\n",
            "The Incredible Hulk\n",
            "Iron Man\n",
            "\n"
          ],
          "name": "stdout"
        }
      ]
    },
    {
      "cell_type": "code",
      "metadata": {
        "colab": {
          "base_uri": "https://localhost:8080/",
          "height": 343
        },
        "id": "t4wG0soqO23-",
        "outputId": "897578e8-ca92-4415-e850-431220108c5b"
      },
      "source": [
        "# Odczytanie wartości z ciągów bajtów do identyfikacji pliku png\r\n",
        "\r\n",
        "import cv2\r\n",
        "from google.colab.patches import cv2_imshow\r\n",
        "\r\n",
        "image = cv2.imread('cap.png')\r\n",
        "cv2_imshow(image)\r\n",
        "\r\n",
        "with open('cap.png', 'rb') as byte_reader:\r\n",
        "  print(byte_reader.read(1))\r\n",
        "  print(byte_reader.read(3))\r\n",
        "  print(byte_reader.read(2))\r\n",
        "  print(byte_reader.read(1))\r\n",
        "  print(byte_reader.read(1))"
      ],
      "execution_count": 53,
      "outputs": [
        {
          "output_type": "display_data",
          "data": {
            "image/png": "[encoded data removed]",
            "text/plain": [
              "<PIL.Image.Image image mode=RGB size=300x241 at 0x7F72772D1860>"
            ]
          },
          "metadata": {
            "tags": []
          }
        },
        {
          "output_type": "stream",
          "text": [
            "b'\\x89'\n",
            "b'PNG'\n",
            "b'\\r\\n'\n",
            "b'\\x1a'\n",
            "b'\\n'\n"
          ],
          "name": "stdout"
        }
      ]
    },
    {
      "cell_type": "code",
      "metadata": {
        "colab": {
          "base_uri": "https://localhost:8080/"
        },
        "id": "nE-K1qCTTVd5",
        "outputId": "e48590ed-6b76-4e67-ac47-7eae3a13aa91"
      },
      "source": [
        "# Dołączanie danych do istniejącego pliku\r\n",
        "\r\n",
        "with open('/content/mcu.txt', 'a') as a_writer:\r\n",
        "  a_writer.write('\\nWandaVision')\r\n",
        "\r\n",
        "with open('/content/mcu.txt', 'r') as reader:\r\n",
        "  print(reader.read())"
      ],
      "execution_count": 54,
      "outputs": [
        {
          "output_type": "stream",
          "text": [
            "Iron Man\n",
            "The Incredible Hulk\n",
            "Iron Man 2\n",
            "Thor\n",
            "Captain America: The First Avenger\n",
            "Marvel's The Avengers\n",
            "Iron Man 3\n",
            "Thor: The Dark World\n",
            "Captain America: The Winter Soldier\n",
            "Guardians of the Galaxy\n",
            "Avengers: Age of Ultron\n",
            "Ant-Man\n",
            "Captain America: Civil War\n",
            "Doctor Strange\n",
            "Guardians of the Galaxy Vol. 2\n",
            "Spider-Man: Homecoming\n",
            "Thor: Ragnarok\n",
            "Black Panther\n",
            "Avengers: Infinity War\n",
            "Ant-Man and the Wasp\n",
            "Captain Marvel\n",
            "Avengers: Endgame\n",
            "Spider-Man: Far From Home\n",
            "Black Widow\n",
            "Shang-Chi and the Legend of the Ten Rings\n",
            "Eternals\n",
            "Spider-Man 3\n",
            "Doctor Strange in the Multiverse of Madness\n",
            "Thor: Love and Thunder\n",
            "Black Panther II\n",
            "Captain Marvel 2\n",
            "Ant-Man and the Wasp: Quantumania\n",
            "Guardians of the Galaxy Vol. 3\n",
            "Blade\n",
            "Fantastic Four\n",
            "WandaVision\n"
          ],
          "name": "stdout"
        }
      ]
    },
    {
      "cell_type": "code",
      "metadata": {
        "colab": {
          "base_uri": "https://localhost:8080/"
        },
        "id": "5-Bkvo9kVH0K",
        "outputId": "98c49df9-a344-496a-8c8f-945219aa665d"
      },
      "source": [
        "# Praca z dwoma plikami jednocześnie - odczytanie danych z jednego pliku i zapisanie do drugiego w odwrotnej kolejności\r\n",
        "\r\n",
        "d_path = '/content/mcu.txt'\r\n",
        "d_r_path = '/content/mcu2.txt'\r\n",
        "with open(d_path, 'r') as reader, open(d_r_path, 'w') as writer:\r\n",
        "  movies = reader.readlines()\r\n",
        "  writer.writelines(reversed(movies))\r\n",
        "\r\n",
        "with open(\"/content/mcu2.txt\", \"r\") as reader:\r\n",
        "  FileContent = reader.read()\r\n",
        "  print(FileContent)"
      ],
      "execution_count": 58,
      "outputs": [
        {
          "output_type": "stream",
          "text": [
            "WandaVisionFantastic Four\n",
            "Blade\n",
            "Guardians of the Galaxy Vol. 3\n",
            "Ant-Man and the Wasp: Quantumania\n",
            "Captain Marvel 2\n",
            "Black Panther II\n",
            "Thor: Love and Thunder\n",
            "Doctor Strange in the Multiverse of Madness\n",
            "Spider-Man 3\n",
            "Eternals\n",
            "Shang-Chi and the Legend of the Ten Rings\n",
            "Black Widow\n",
            "Spider-Man: Far From Home\n",
            "Avengers: Endgame\n",
            "Captain Marvel\n",
            "Ant-Man and the Wasp\n",
            "Avengers: Infinity War\n",
            "Black Panther\n",
            "Thor: Ragnarok\n",
            "Spider-Man: Homecoming\n",
            "Guardians of the Galaxy Vol. 2\n",
            "Doctor Strange\n",
            "Captain America: Civil War\n",
            "Ant-Man\n",
            "Avengers: Age of Ultron\n",
            "Guardians of the Galaxy\n",
            "Captain America: The Winter Soldier\n",
            "Thor: The Dark World\n",
            "Iron Man 3\n",
            "Marvel's The Avengers\n",
            "Captain America: The First Avenger\n",
            "Thor\n",
            "Iron Man 2\n",
            "The Incredible Hulk\n",
            "Iron Man\n",
            "\n"
          ],
          "name": "stdout"
        }
      ]
    }
  ]
}