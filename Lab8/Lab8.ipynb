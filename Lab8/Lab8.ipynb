{
  "nbformat": 4,
  "nbformat_minor": 0,
  "metadata": {
    "colab": {
      "name": "Lab8.ipynb",
      "provenance": [],
      "authorship_tag": "ABX9TyNH/UTvsQb6wb1bhrM3IO/u",
      "include_colab_link": true
    },
    "kernelspec": {
      "name": "python3",
      "display_name": "Python 3"
    }
  },
  "cells": [
    {
      "cell_type": "markdown",
      "metadata": {
        "id": "view-in-github",
        "colab_type": "text"
      },
      "source": [
        "<a href=\"https://colab.research.google.com/github/maciejlehmann/amw-wdum/blob/main/Lab8/Lab8.ipynb\" target=\"_parent\"><img src=\"https://colab.research.google.com/assets/colab-badge.svg\" alt=\"Open In Colab\"/></a>"
      ]
    },
    {
      "cell_type": "code",
      "metadata": {
        "id": "6mCNabo_cnSd"
      },
      "source": [
        "import json"
      ],
      "execution_count": 49,
      "outputs": []
    },
    {
      "cell_type": "code",
      "metadata": {
        "id": "oGGuP1FHcrDb"
      },
      "source": [
        "# Serializacja - zapisywanie danych do formatu JSON\r\n",
        "\r\n",
        "data = {\r\n",
        "    \"film\": {\r\n",
        "        \"tytul\": \"Avengers: Endgame\",\r\n",
        "        \"gatunek\": \"Akcja / Sci-Fi\"\r\n",
        "    }\r\n",
        "}\r\n",
        "\r\n",
        "with open(\"plik.json\", \"w\") as write_file:\r\n",
        "  json.dump(data, write_file)\r\n",
        "\r\n",
        "json_string = json.dumps(data)"
      ],
      "execution_count": 50,
      "outputs": []
    },
    {
      "cell_type": "code",
      "metadata": {
        "colab": {
          "base_uri": "https://localhost:8080/",
          "height": 35
        },
        "id": "1IiSdhrBdS8u",
        "outputId": "1ff0be82-5072-47e4-8ef4-c29f806b5a58"
      },
      "source": [
        "# Zapisanie danych w formacie JSON\r\n",
        "\r\n",
        "json.dumps(data)"
      ],
      "execution_count": 51,
      "outputs": [
        {
          "output_type": "execute_result",
          "data": {
            "application/vnd.google.colaboratory.intrinsic+json": {
              "type": "string"
            },
            "text/plain": [
              "'{\"film\": {\"tytul\": \"Avengers: Endgame\", \"gatunek\": \"Akcja / Sci-Fi\"}}'"
            ]
          },
          "metadata": {
            "tags": []
          },
          "execution_count": 51
        }
      ]
    },
    {
      "cell_type": "code",
      "metadata": {
        "colab": {
          "base_uri": "https://localhost:8080/",
          "height": 35
        },
        "id": "Z4-wBmpUdIbK",
        "outputId": "36d93130-45a9-4684-8784-2f7be99edbae"
      },
      "source": [
        "# Zapisanie danych w formacie JSON z zastosowaniem argumentów\r\n",
        "\r\n",
        "json.dumps(data, indent=2)"
      ],
      "execution_count": 52,
      "outputs": [
        {
          "output_type": "execute_result",
          "data": {
            "application/vnd.google.colaboratory.intrinsic+json": {
              "type": "string"
            },
            "text/plain": [
              "'{\\n  \"film\": {\\n    \"tytul\": \"Avengers: Endgame\",\\n    \"gatunek\": \"Akcja / Sci-Fi\"\\n  }\\n}'"
            ]
          },
          "metadata": {
            "tags": []
          },
          "execution_count": 52
        }
      ]
    },
    {
      "cell_type": "code",
      "metadata": {
        "colab": {
          "base_uri": "https://localhost:8080/"
        },
        "id": "Hpkpv5RWd-1_",
        "outputId": "c31ababf-b629-4a13-cbda-38bf729adb7f"
      },
      "source": [
        "# Sprawdzenie jak działa zapisywanie i odczytywanie danych z JSON\r\n",
        "\r\n",
        "blackjack_hand = (8, \"Q\")\r\n",
        "encoded_hand = json.dumps(blackjack_hand)\r\n",
        "decoded_hand = json.loads(encoded_hand)\r\n",
        "\r\n",
        "blackjack_hand == decoded_hand"
      ],
      "execution_count": 53,
      "outputs": [
        {
          "output_type": "execute_result",
          "data": {
            "text/plain": [
              "False"
            ]
          },
          "metadata": {
            "tags": []
          },
          "execution_count": 53
        }
      ]
    },
    {
      "cell_type": "code",
      "metadata": {
        "colab": {
          "base_uri": "https://localhost:8080/"
        },
        "id": "YPLeWCUFeTOK",
        "outputId": "7623edbf-4097-4909-d076-07175f2bc57a"
      },
      "source": [
        "type(blackjack_hand)"
      ],
      "execution_count": 54,
      "outputs": [
        {
          "output_type": "execute_result",
          "data": {
            "text/plain": [
              "tuple"
            ]
          },
          "metadata": {
            "tags": []
          },
          "execution_count": 54
        }
      ]
    },
    {
      "cell_type": "code",
      "metadata": {
        "colab": {
          "base_uri": "https://localhost:8080/"
        },
        "id": "w_DGP-1ZeTF2",
        "outputId": "1b9baab5-6971-4689-872c-8dad0829bb17"
      },
      "source": [
        "type(decoded_hand)"
      ],
      "execution_count": 55,
      "outputs": [
        {
          "output_type": "execute_result",
          "data": {
            "text/plain": [
              "list"
            ]
          },
          "metadata": {
            "tags": []
          },
          "execution_count": 55
        }
      ]
    },
    {
      "cell_type": "code",
      "metadata": {
        "colab": {
          "base_uri": "https://localhost:8080/"
        },
        "id": "OJl8coFoeSfA",
        "outputId": "a1852e35-df71-4a31-b4bc-f9fb3749346f"
      },
      "source": [
        "blackjack_hand == tuple(decoded_hand)"
      ],
      "execution_count": 56,
      "outputs": [
        {
          "output_type": "execute_result",
          "data": {
            "text/plain": [
              "True"
            ]
          },
          "metadata": {
            "tags": []
          },
          "execution_count": 56
        }
      ]
    },
    {
      "cell_type": "code",
      "metadata": {
        "colab": {
          "base_uri": "https://localhost:8080/"
        },
        "id": "B44RD1cEe38Z",
        "outputId": "dccce465-9e57-4e4d-e0df-45d7f56725a7"
      },
      "source": [
        "# Odczytanie danych z pliku JSON\r\n",
        "\r\n",
        "with open(\"plik.json\", \"r\") as read_file:\r\n",
        "  data = json.load(read_file)\r\n",
        "  print(data)"
      ],
      "execution_count": 57,
      "outputs": [
        {
          "output_type": "stream",
          "text": [
            "{'film': {'tytul': 'Avengers: Endgame', 'gatunek': 'Akcja / Sci-Fi'}}\n"
          ],
          "name": "stdout"
        }
      ]
    },
    {
      "cell_type": "code",
      "metadata": {
        "colab": {
          "base_uri": "https://localhost:8080/"
        },
        "id": "VjTz0krmffjy",
        "outputId": "41746c28-5169-4ce9-b5a4-e2ecf7d6f20f"
      },
      "source": [
        "# Odczytanie danych w formacie JSON\r\n",
        "\r\n",
        "json_string = \"\"\"\r\n",
        "{\r\n",
        "    \"film\": {\r\n",
        "        \"tytul\": \"Captain America: The Winter Soldier\",\r\n",
        "        \"gatunek\": \"Akcja / Sci-Fi\",\r\n",
        "        \"kontynuacja\": [\r\n",
        "            {\r\n",
        "                \"tytul\": \"Captain America: Civil War\",\r\n",
        "                \"gatunek\": \"Akcja / Sci-Fi\"\r\n",
        "            }\r\n",
        "        ]\r\n",
        "    }\r\n",
        "}\r\n",
        "\"\"\"\r\n",
        "data = json.loads(json_string)\r\n",
        "print(data)"
      ],
      "execution_count": 58,
      "outputs": [
        {
          "output_type": "stream",
          "text": [
            "{'film': {'tytul': 'Captain America: The Winter Soldier', 'gatunek': 'Akcja / Sci-Fi', 'kontynuacja': [{'tytul': 'Captain America: Civil War', 'gatunek': 'Akcja / Sci-Fi'}]}}\n"
          ],
          "name": "stdout"
        }
      ]
    },
    {
      "cell_type": "code",
      "metadata": {
        "id": "QBNSrOPMfo4Q"
      },
      "source": [
        "# Pobranie przykładowych danych w formacie JSON\r\n",
        "\r\n",
        "import requests\r\n",
        "\r\n",
        "response = requests.get(\"https://jsonplaceholder.typicode.com/todos\")\r\n",
        "todos = json.loads(response.text)"
      ],
      "execution_count": 59,
      "outputs": []
    },
    {
      "cell_type": "code",
      "metadata": {
        "colab": {
          "base_uri": "https://localhost:8080/"
        },
        "id": "nss0BQetlwLL",
        "outputId": "6dd42d86-0874-4881-da89-4e439fb406ff"
      },
      "source": [
        "# Sprawdzenie typu w jakim nasze dane zostały zapisane - tutaj lista\r\n",
        "\r\n",
        "type(todos)"
      ],
      "execution_count": 60,
      "outputs": [
        {
          "output_type": "execute_result",
          "data": {
            "text/plain": [
              "list"
            ]
          },
          "metadata": {
            "tags": []
          },
          "execution_count": 60
        }
      ]
    },
    {
      "cell_type": "code",
      "metadata": {
        "colab": {
          "base_uri": "https://localhost:8080/"
        },
        "id": "W1Z0Q3SNl0qz",
        "outputId": "b5a8ce2a-abfe-45fa-88f6-39e8784e8ee3"
      },
      "source": [
        "# Wyświetlenie pierwszych dziesięciu pozycji naszych danych\r\n",
        "\r\n",
        "todos[:10]"
      ],
      "execution_count": 61,
      "outputs": [
        {
          "output_type": "execute_result",
          "data": {
            "text/plain": [
              "[{'completed': False, 'id': 1, 'title': 'delectus aut autem', 'userId': 1},\n",
              " {'completed': False,\n",
              "  'id': 2,\n",
              "  'title': 'quis ut nam facilis et officia qui',\n",
              "  'userId': 1},\n",
              " {'completed': False, 'id': 3, 'title': 'fugiat veniam minus', 'userId': 1},\n",
              " {'completed': True, 'id': 4, 'title': 'et porro tempora', 'userId': 1},\n",
              " {'completed': False,\n",
              "  'id': 5,\n",
              "  'title': 'laboriosam mollitia et enim quasi adipisci quia provident illum',\n",
              "  'userId': 1},\n",
              " {'completed': False,\n",
              "  'id': 6,\n",
              "  'title': 'qui ullam ratione quibusdam voluptatem quia omnis',\n",
              "  'userId': 1},\n",
              " {'completed': False,\n",
              "  'id': 7,\n",
              "  'title': 'illo expedita consequatur quia in',\n",
              "  'userId': 1},\n",
              " {'completed': True,\n",
              "  'id': 8,\n",
              "  'title': 'quo adipisci enim quam ut ab',\n",
              "  'userId': 1},\n",
              " {'completed': False,\n",
              "  'id': 9,\n",
              "  'title': 'molestiae perspiciatis ipsa',\n",
              "  'userId': 1},\n",
              " {'completed': True,\n",
              "  'id': 10,\n",
              "  'title': 'illo est ratione doloremque quia maiores aut',\n",
              "  'userId': 1}]"
            ]
          },
          "metadata": {
            "tags": []
          },
          "execution_count": 61
        }
      ]
    },
    {
      "cell_type": "code",
      "metadata": {
        "id": "TQWkr_WTmY6G",
        "colab": {
          "base_uri": "https://localhost:8080/"
        },
        "outputId": "bdf95327-2b3a-4a8b-c4e1-1027624935e8"
      },
      "source": [
        "# Lista użytkowników, którzy ukończyli największą liczbę zadań\r\n",
        "\r\n",
        "todos_by_user = {}\r\n",
        "\r\n",
        "# Inkrementacja ukończonych zadań dla każdego użytkownika\r\n",
        "for todo in todos:\r\n",
        "    if todo[\"completed\"]:\r\n",
        "        try:\r\n",
        "            # Zwiększ liczbę zadań istniejącego użytkownika\r\n",
        "            todos_by_user[todo[\"userId\"]] += 1\r\n",
        "        except KeyError:\r\n",
        "            # Ustawienie liczby zadań na 1 dla nowych użytkowników\r\n",
        "            todos_by_user[todo[\"userId\"]] = 1\r\n",
        "\r\n",
        "# Stworzenie posortowanej listy zwierająych pary (użytkownik - liczba ukończonych zadań)\r\n",
        "top_users = sorted(todos_by_user.items(), key=lambda x: x[1], reverse=True)\r\n",
        "\r\n",
        "# Wybranie największej liczby ukończonych zadań\r\n",
        "max_complete = top_users[0][1]\r\n",
        "\r\n",
        "# Stworzenie listy użytkowników, którzy ukończyli najwięcej zadań\r\n",
        "users = []\r\n",
        "for user, num_complete in top_users:\r\n",
        "    if num_complete < max_complete:\r\n",
        "        break\r\n",
        "    users.append(str(user))\r\n",
        "\r\n",
        "max_users = \" i \".join(users)\r\n",
        "print(f\"Użytkownicy {max_users} ukończyli {max_complete} zadań\")"
      ],
      "execution_count": 46,
      "outputs": [
        {
          "output_type": "stream",
          "text": [
            "Użytkownicy 5 i 10 ukończyli 12 zadań\n"
          ],
          "name": "stdout"
        }
      ]
    },
    {
      "cell_type": "code",
      "metadata": {
        "id": "6g23wMaa8c2U",
        "colab": {
          "base_uri": "https://localhost:8080/"
        },
        "outputId": "920eab30-5490-45a5-d5c8-8c28550d1b71"
      },
      "source": [
        "# Funkcja do wyciągnięcia ukończonych zadań użytkowników z największą liczbą ukończonych zadań\r\n",
        "def keep(todo):\r\n",
        "    is_complete = todo[\"completed\"]\r\n",
        "    has_max_count = str(todo[\"userId\"]) in users\r\n",
        "    return is_complete and has_max_count\r\n",
        "\r\n",
        "# Zapisanie danych do pliku JSON\r\n",
        "with open(\"dane.json\", \"w\") as data_file:\r\n",
        "    filtered_todos = list(filter(keep, todos))\r\n",
        "    json.dump(filtered_todos, data_file, indent=2)\r\n",
        "\r\n",
        "with open(\"dane.json\", \"r\") as read_file:\r\n",
        "  print(read_file.read())"
      ],
      "execution_count": 62,
      "outputs": [
        {
          "output_type": "stream",
          "text": [
            "[\n",
            "  {\n",
            "    \"userId\": 5,\n",
            "    \"id\": 81,\n",
            "    \"title\": \"suscipit qui totam\",\n",
            "    \"completed\": true\n",
            "  },\n",
            "  {\n",
            "    \"userId\": 5,\n",
            "    \"id\": 83,\n",
            "    \"title\": \"quidem at rerum quis ex aut sit quam\",\n",
            "    \"completed\": true\n",
            "  },\n",
            "  {\n",
            "    \"userId\": 5,\n",
            "    \"id\": 85,\n",
            "    \"title\": \"et quia ad iste a\",\n",
            "    \"completed\": true\n",
            "  },\n",
            "  {\n",
            "    \"userId\": 5,\n",
            "    \"id\": 86,\n",
            "    \"title\": \"incidunt ut saepe autem\",\n",
            "    \"completed\": true\n",
            "  },\n",
            "  {\n",
            "    \"userId\": 5,\n",
            "    \"id\": 87,\n",
            "    \"title\": \"laudantium quae eligendi consequatur quia et vero autem\",\n",
            "    \"completed\": true\n",
            "  },\n",
            "  {\n",
            "    \"userId\": 5,\n",
            "    \"id\": 89,\n",
            "    \"title\": \"sequi ut omnis et\",\n",
            "    \"completed\": true\n",
            "  },\n",
            "  {\n",
            "    \"userId\": 5,\n",
            "    \"id\": 90,\n",
            "    \"title\": \"molestiae nisi accusantium tenetur dolorem et\",\n",
            "    \"completed\": true\n",
            "  },\n",
            "  {\n",
            "    \"userId\": 5,\n",
            "    \"id\": 91,\n",
            "    \"title\": \"nulla quis consequatur saepe qui id expedita\",\n",
            "    \"completed\": true\n",
            "  },\n",
            "  {\n",
            "    \"userId\": 5,\n",
            "    \"id\": 92,\n",
            "    \"title\": \"in omnis laboriosam\",\n",
            "    \"completed\": true\n",
            "  },\n",
            "  {\n",
            "    \"userId\": 5,\n",
            "    \"id\": 93,\n",
            "    \"title\": \"odio iure consequatur molestiae quibusdam necessitatibus quia sint\",\n",
            "    \"completed\": true\n",
            "  },\n",
            "  {\n",
            "    \"userId\": 5,\n",
            "    \"id\": 95,\n",
            "    \"title\": \"vel nihil et molestiae iusto assumenda nemo quo ut\",\n",
            "    \"completed\": true\n",
            "  },\n",
            "  {\n",
            "    \"userId\": 5,\n",
            "    \"id\": 98,\n",
            "    \"title\": \"debitis accusantium ut quo facilis nihil quis sapiente necessitatibus\",\n",
            "    \"completed\": true\n",
            "  },\n",
            "  {\n",
            "    \"userId\": 10,\n",
            "    \"id\": 182,\n",
            "    \"title\": \"inventore saepe cumque et aut illum enim\",\n",
            "    \"completed\": true\n",
            "  },\n",
            "  {\n",
            "    \"userId\": 10,\n",
            "    \"id\": 183,\n",
            "    \"title\": \"omnis nulla eum aliquam distinctio\",\n",
            "    \"completed\": true\n",
            "  },\n",
            "  {\n",
            "    \"userId\": 10,\n",
            "    \"id\": 188,\n",
            "    \"title\": \"vel non beatae est\",\n",
            "    \"completed\": true\n",
            "  },\n",
            "  {\n",
            "    \"userId\": 10,\n",
            "    \"id\": 189,\n",
            "    \"title\": \"culpa eius et voluptatem et\",\n",
            "    \"completed\": true\n",
            "  },\n",
            "  {\n",
            "    \"userId\": 10,\n",
            "    \"id\": 190,\n",
            "    \"title\": \"accusamus sint iusto et voluptatem exercitationem\",\n",
            "    \"completed\": true\n",
            "  },\n",
            "  {\n",
            "    \"userId\": 10,\n",
            "    \"id\": 191,\n",
            "    \"title\": \"temporibus atque distinctio omnis eius impedit tempore molestias pariatur\",\n",
            "    \"completed\": true\n",
            "  },\n",
            "  {\n",
            "    \"userId\": 10,\n",
            "    \"id\": 193,\n",
            "    \"title\": \"rerum debitis voluptatem qui eveniet tempora distinctio a\",\n",
            "    \"completed\": true\n",
            "  },\n",
            "  {\n",
            "    \"userId\": 10,\n",
            "    \"id\": 195,\n",
            "    \"title\": \"rerum ex veniam mollitia voluptatibus pariatur\",\n",
            "    \"completed\": true\n",
            "  },\n",
            "  {\n",
            "    \"userId\": 10,\n",
            "    \"id\": 196,\n",
            "    \"title\": \"consequuntur aut ut fugit similique\",\n",
            "    \"completed\": true\n",
            "  },\n",
            "  {\n",
            "    \"userId\": 10,\n",
            "    \"id\": 197,\n",
            "    \"title\": \"dignissimos quo nobis earum saepe\",\n",
            "    \"completed\": true\n",
            "  },\n",
            "  {\n",
            "    \"userId\": 10,\n",
            "    \"id\": 198,\n",
            "    \"title\": \"quis eius est sint explicabo\",\n",
            "    \"completed\": true\n",
            "  },\n",
            "  {\n",
            "    \"userId\": 10,\n",
            "    \"id\": 199,\n",
            "    \"title\": \"numquam repellendus a magnam\",\n",
            "    \"completed\": true\n",
            "  }\n",
            "]\n"
          ],
          "name": "stdout"
        }
      ]
    },
    {
      "cell_type": "code",
      "metadata": {
        "colab": {
          "base_uri": "https://localhost:8080/"
        },
        "id": "qs9l2w2qifiZ",
        "outputId": "48200399-356d-4664-d1e0-14b9d397d5e1"
      },
      "source": [
        "import csv\r\n",
        "\r\n",
        "# Odczytanie danych z pliku CSV\r\n",
        "\r\n",
        "with open('urodziny.txt') as csv_file:\r\n",
        "    csv_reader = csv.reader(csv_file, delimiter=',')\r\n",
        "    line_count = 0\r\n",
        "    for row in csv_reader:\r\n",
        "        if line_count == 0:\r\n",
        "            print(f'Nazwy kolumn to: {\", \".join(row)}')\r\n",
        "            line_count += 1\r\n",
        "        else:\r\n",
        "            print(f'\\t{row[0]} pracuje w dziale {row[1]}, i ma urodziny w {row[2]}.')\r\n",
        "            line_count += 1\r\n",
        "    print(f'Przetworzono {line_count} linie.')"
      ],
      "execution_count": 63,
      "outputs": [
        {
          "output_type": "stream",
          "text": [
            "Nazwy kolumn to: imię, dział, miesiąc urodzin\n",
            "\tJan Kowalski pracuje w dziale Kadry, i ma urodziny w Listopadzie.\n",
            "\tMaciej Lehmann pracuje w dziale IT, i ma urodziny w Maju.\n",
            "\tAnna Nowak pracuje w dziale Kierownictwo, i ma urodziny w Lipcu.\n",
            "Przetworzono 4 linie.\n"
          ],
          "name": "stdout"
        }
      ]
    },
    {
      "cell_type": "code",
      "metadata": {
        "colab": {
          "base_uri": "https://localhost:8080/"
        },
        "id": "mHM6Zf7vLqxL",
        "outputId": "b2d34f65-842a-4812-e566-d31f15cdbef0"
      },
      "source": [
        "# Odzytanie danych z pliku CSV do slownika\r\n",
        "\r\n",
        "with open('urodziny.txt', mode='r') as csv_file:\r\n",
        "    csv_reader = csv.DictReader(csv_file)\r\n",
        "    line_count = 0\r\n",
        "    for row in csv_reader:\r\n",
        "        if line_count == 0:\r\n",
        "            print(f'Nazwy kolumn to: {\", \".join(row)}')\r\n",
        "            line_count += 1\r\n",
        "        print(f'\\t{row[\"imię\"]} pracuje w dziale {row[\"dział\"]} i ma urodziny w {row[\"miesiąc urodzin\"]}.')\r\n",
        "        line_count += 1\r\n",
        "    print(f'Przetworzono {line_count} linie.')"
      ],
      "execution_count": 64,
      "outputs": [
        {
          "output_type": "stream",
          "text": [
            "Nazwy kolumn to: imię, dział, miesiąc urodzin\n",
            "\tJan Kowalski pracuje w dziale Kadry i ma urodziny w Listopadzie.\n",
            "\tMaciej Lehmann pracuje w dziale IT i ma urodziny w Maju.\n",
            "\tAnna Nowak pracuje w dziale Kierownictwo i ma urodziny w Lipcu.\n",
            "Przetworzono 4 linie.\n"
          ],
          "name": "stdout"
        }
      ]
    },
    {
      "cell_type": "code",
      "metadata": {
        "colab": {
          "base_uri": "https://localhost:8080/"
        },
        "id": "YeqQKJeSNXwP",
        "outputId": "ac2bf46d-4ca0-4ae3-97d9-ca922b198851"
      },
      "source": [
        "# Zapisywanie danych do pliku CSV\r\n",
        "\r\n",
        "with open('pracownicy.csv', mode='w') as pracownicy:\r\n",
        "    employee_writer = csv.writer(pracownicy, delimiter=',', quotechar='\"', quoting=csv.QUOTE_MINIMAL)\r\n",
        "\r\n",
        "    employee_writer.writerow(['Jan Kowalski', 'Kadry', 'Listopad'])\r\n",
        "    employee_writer.writerow(['Maciej Lehmann', 'IT', 'Maj'])\r\n",
        "    employee_writer.writerow(['Anna Nowak', 'Kierownictwo', 'Lipiec'])\r\n",
        "\r\n",
        "with open(\"/content/pracownicy.csv\", \"r\") as read_file:\r\n",
        "  print(read_file.read())"
      ],
      "execution_count": 65,
      "outputs": [
        {
          "output_type": "stream",
          "text": [
            "Jan Kowalski,Kadry,Listopad\n",
            "Maciej Lehmann,IT,Maj\n",
            "Anna Nowak,Kierownictwo,Lipiec\n",
            "\n"
          ],
          "name": "stdout"
        }
      ]
    },
    {
      "cell_type": "code",
      "metadata": {
        "colab": {
          "base_uri": "https://localhost:8080/"
        },
        "id": "P0RgAdCLRHgt",
        "outputId": "f9aaa8c8-74de-43d6-e86b-7bcb640cb75a"
      },
      "source": [
        "# Zapisanie danych w pliku CVS ze słownika\r\n",
        "\r\n",
        "with open('pracownicy2.csv', mode='w') as csv_file:\r\n",
        "    fieldnames = ['imię', 'dział', 'miesiąc_urodzin']\r\n",
        "    writer = csv.DictWriter(csv_file, fieldnames=fieldnames)\r\n",
        "\r\n",
        "    writer.writeheader()\r\n",
        "    writer.writerow({'imię': 'Jan Kowalski', 'dział': 'Kadry', 'miesiąc_urodzin': 'Listopad'})\r\n",
        "    writer.writerow({'imię': 'Maciej Lehmann', 'dział': 'IT', 'miesiąc_urodzin': 'Maj'})\r\n",
        "    writer.writerow({'imię': 'Anna Nowak', 'dział': 'Kierownictwo', 'miesiąc_urodzin': 'Lipiec'})\r\n",
        "\r\n",
        "with open(\"/content/pracownicy2.csv\", \"r\") as read_file:\r\n",
        "  print(read_file.read())"
      ],
      "execution_count": 66,
      "outputs": [
        {
          "output_type": "stream",
          "text": [
            "imię,dział,miesiąc_urodzin\n",
            "Jan Kowalski,Kadry,Listopad\n",
            "Maciej Lehmann,IT,Maj\n",
            "Anna Nowak,Kierownictwo,Lipiec\n",
            "\n"
          ],
          "name": "stdout"
        }
      ]
    },
    {
      "cell_type": "code",
      "metadata": {
        "colab": {
          "base_uri": "https://localhost:8080/"
        },
        "id": "yRtsCNS4YUZp",
        "outputId": "d53a2819-5470-4296-9937-c56a601dba5d"
      },
      "source": [
        "import pandas\r\n",
        "\r\n",
        "# Wczytanie danych z pliku CSV za pomocą pandas\r\n",
        "\r\n",
        "df = pandas.read_csv('hrdata.csv')\r\n",
        "print(df)"
      ],
      "execution_count": 67,
      "outputs": [
        {
          "output_type": "stream",
          "text": [
            "     Imię i nazwisko Data zatrudnienia  Zarobki  Pozostałe dni chorobowego\n",
            "0     Maciej Lehmann          03/15/14  50000.0                         10\n",
            "1       Jan Kowalski          06/01/15  65000.0                          8\n",
            "2         Anna Nowak          05/12/14  45000.0                         10\n",
            "3   Robert Makłowicz          11/01/13  70000.0                          3\n",
            "4  Magdalena Gessler          08/12/14  48000.0                          7\n",
            "5    Krzysztof Ibisz          05/23/13  66000.0                          8\n"
          ],
          "name": "stdout"
        }
      ]
    },
    {
      "cell_type": "code",
      "metadata": {
        "colab": {
          "base_uri": "https://localhost:8080/"
        },
        "id": "1oFRt1LDanEc",
        "outputId": "4b5e926c-56a1-4f72-82b4-73782ad99171"
      },
      "source": [
        "# Ustawienie kolumny 'Imię i naziwsko\" jako indexu\r\n",
        "\r\n",
        "df = pandas.read_csv('hrdata.csv', index_col='Imię i nazwisko')\r\n",
        "print(df)"
      ],
      "execution_count": 68,
      "outputs": [
        {
          "output_type": "stream",
          "text": [
            "                  Data zatrudnienia  Zarobki  Pozostałe dni chorobowego\n",
            "Imię i nazwisko                                                        \n",
            "Maciej Lehmann             03/15/14  50000.0                         10\n",
            "Jan Kowalski               06/01/15  65000.0                          8\n",
            "Anna Nowak                 05/12/14  45000.0                         10\n",
            "Robert Makłowicz           11/01/13  70000.0                          3\n",
            "Magdalena Gessler          08/12/14  48000.0                          7\n",
            "Krzysztof Ibisz            05/23/13  66000.0                          8\n"
          ],
          "name": "stdout"
        }
      ]
    },
    {
      "cell_type": "code",
      "metadata": {
        "colab": {
          "base_uri": "https://localhost:8080/"
        },
        "id": "w84ykyw3baHh",
        "outputId": "a1756878-fe00-4e15-f778-cbee66bca1b8"
      },
      "source": [
        "# Zmiana typu danych kolumny 'Data zatrudnienia' na date\r\n",
        "\r\n",
        "df = pandas.read_csv('hrdata.csv', index_col='Imię i nazwisko', parse_dates=['Data zatrudnienia'])\r\n",
        "print(df)"
      ],
      "execution_count": 69,
      "outputs": [
        {
          "output_type": "stream",
          "text": [
            "                  Data zatrudnienia  Zarobki  Pozostałe dni chorobowego\n",
            "Imię i nazwisko                                                        \n",
            "Maciej Lehmann           2014-03-15  50000.0                         10\n",
            "Jan Kowalski             2015-06-01  65000.0                          8\n",
            "Anna Nowak               2014-05-12  45000.0                         10\n",
            "Robert Makłowicz         2013-11-01  70000.0                          3\n",
            "Magdalena Gessler        2014-08-12  48000.0                          7\n",
            "Krzysztof Ibisz          2013-05-23  66000.0                          8\n"
          ],
          "name": "stdout"
        }
      ]
    },
    {
      "cell_type": "code",
      "metadata": {
        "colab": {
          "base_uri": "https://localhost:8080/"
        },
        "id": "oOghDQVqbnxF",
        "outputId": "e0ff2aca-9a35-4224-ac13-9b91abf06664"
      },
      "source": [
        "# Zmiana nazw kolumn na podane\r\n",
        "\r\n",
        "df = pandas.read_csv('hrdata.csv', \r\n",
        "            index_col='Pracownik', \r\n",
        "            parse_dates=['Zatrudniony'], \r\n",
        "            header=0, \r\n",
        "            names=['Pracownik', 'Zatrudniony','Zarobki', 'Chorobowe'])\r\n",
        "print(df)"
      ],
      "execution_count": 70,
      "outputs": [
        {
          "output_type": "stream",
          "text": [
            "                  Zatrudniony  Zarobki  Chorobowe\n",
            "Pracownik                                        \n",
            "Maciej Lehmann     2014-03-15  50000.0         10\n",
            "Jan Kowalski       2015-06-01  65000.0          8\n",
            "Anna Nowak         2014-05-12  45000.0         10\n",
            "Robert Makłowicz   2013-11-01  70000.0          3\n",
            "Magdalena Gessler  2014-08-12  48000.0          7\n",
            "Krzysztof Ibisz    2013-05-23  66000.0          8\n"
          ],
          "name": "stdout"
        }
      ]
    },
    {
      "cell_type": "code",
      "metadata": {
        "colab": {
          "base_uri": "https://localhost:8080/"
        },
        "id": "efMKwBK4cqOE",
        "outputId": "38665699-8d4f-4c84-b957-ea74647dfcb1"
      },
      "source": [
        "# Zapisywanie danych do pliku CSV za pomocą pandas\r\n",
        "\r\n",
        "df = pandas.read_csv('hrdata.csv', \r\n",
        "            index_col='Pracownik', \r\n",
        "            parse_dates=['Zatrudniony'], \r\n",
        "            header=0, \r\n",
        "            names=['Pracownik', 'Zatrudniony','Zarobki', 'Chorobowe'])\r\n",
        "df.to_csv('hrdata2.csv')\r\n",
        "\r\n",
        "with open(\"/content/hrdata2.csv\", \"r\") as read_file:\r\n",
        "  print(read_file.read())"
      ],
      "execution_count": 71,
      "outputs": [
        {
          "output_type": "stream",
          "text": [
            "Pracownik,Zatrudniony,Zarobki,Chorobowe\n",
            "Maciej Lehmann,2014-03-15,50000.0,10\n",
            "Jan Kowalski,2015-06-01,65000.0,8\n",
            "Anna Nowak,2014-05-12,45000.0,10\n",
            "Robert Makłowicz,2013-11-01,70000.0,3\n",
            "Magdalena Gessler,2014-08-12,48000.0,7\n",
            "Krzysztof Ibisz,2013-05-23,66000.0,8\n",
            "\n"
          ],
          "name": "stdout"
        }
      ]
    }
  ]
}